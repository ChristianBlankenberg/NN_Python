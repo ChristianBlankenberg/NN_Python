{
 "cells": [
  {
   "cell_type": "code",
   "execution_count": 1,
   "metadata": {},
   "outputs": [],
   "source": [
    "# python notebook for Make Your Own Neural Network\n",
    "# code for a 3-layer neural network, and code for learning the MNIST dataset\n",
    "# this version trains using the MNIST dataset, then tests on our own images\n",
    "# (c) Tariq Rashid, 2016\n",
    "# license is GPLv2"
   ]
  },
  {
   "cell_type": "code",
   "execution_count": 2,
   "metadata": {},
   "outputs": [],
   "source": [
    "import numpy\n",
    "# scipy.special for the sigmoid function expit()\n",
    "import scipy.special\n",
    "# library for plotting arrays\n",
    "import matplotlib.pyplot\n",
    "# ensure the plots are inside this notebook, not an external window\n",
    "%matplotlib inline"
   ]
  },
  {
   "cell_type": "code",
   "execution_count": 3,
   "metadata": {},
   "outputs": [],
   "source": [
    "import os"
   ]
  },
  {
   "cell_type": "code",
   "execution_count": 4,
   "metadata": {},
   "outputs": [],
   "source": [
    "# helper to load data from PNG image files\n",
    "import imageio"
   ]
  },
  {
   "cell_type": "code",
   "execution_count": 5,
   "metadata": {},
   "outputs": [],
   "source": [
    "# neural network class definition\n",
    "class neuralNetwork2HiddenLayers:\n",
    "    \n",
    "    \n",
    "    # initialise the neural network\n",
    "    def __init__(self, inputnodes, hiddennodesLayer1, hiddennodesLayer2, outputnodes, learningrate):\n",
    "        # set number of nodes in each input, hidden, output layer\n",
    "        self.inodes = inputnodes\n",
    "        self.hnodesLayer1 = hiddennodesLayer1\n",
    "        self.hnodesLayer2 = hiddennodesLayer2\n",
    "        self.onodes = outputnodes\n",
    "        \n",
    "        # link weight matrices, wih and who\n",
    "        # weights inside the arrays are w_i_j, where link is from node i to node j in the next layer\n",
    "        # w11 w21\n",
    "        # w12 w22 etc \n",
    "        self.wih1 = numpy.random.normal(0.0, pow(self.inodes, -0.5), (self.hnodesLayer1, self.inodes))\n",
    "        self.wh1h2 = numpy.random.normal(0.0, pow(self.hnodesLayer1, -0.5), (self.hnodesLayer2, self.hnodesLayer1))\n",
    "        self.wh2o = numpy.random.normal(0.0, pow(self.hnodesLayer2, -0.5), (self.onodes, self.hnodesLayer2))\n",
    "\n",
    "        # learning rate\n",
    "        self.lr = learningrate\n",
    "        \n",
    "        # activation function is the sigmoid function\n",
    "        self.activation_function = lambda x: scipy.special.expit(x)\n",
    "        \n",
    "        pass\n",
    "\n",
    "    \n",
    "    # train the neural network\n",
    "    def train(self, inputs_list, targets_list):\n",
    "   # convert inputs list to 2d array\n",
    "        inputs = numpy.array(inputs_list, ndmin=2).T\n",
    "        targets = numpy.array(targets_list, ndmin=2).T\n",
    "        \n",
    "        # calculate signals into hidden layer 1\n",
    "        hidden_inputs_l1 = numpy.dot(self.wih1, inputs)\n",
    "        # calculate the signals emerging from hidden layer\n",
    "        hidden_outputs_l1 = self.activation_function(hidden_inputs_l1)\n",
    "\n",
    "        # calculate signals into hidden layer 2\n",
    "        hidden_inputs_l2 = numpy.dot(self.wh1h2, hidden_outputs_l1)\n",
    "        # calculate the signals emerging from hidden layer\n",
    "        hidden_outputs_l2 = self.activation_function(hidden_inputs_l2)\n",
    " \n",
    "        # calculate signals into final output layer\n",
    "        final_inputs = numpy.dot(self.wh2o, hidden_outputs_l2)\n",
    "        # calculate the signals emerging from final output layer\n",
    "        final_outputs = self.activation_function(final_inputs)\n",
    "        \n",
    "        # output layer error is the (target - actual)\n",
    "        output_errors = targets - final_outputs\n",
    "        # hidden layer 2 error is the output_errors, split by weights, recombined at hidden nodes\n",
    "        hidden_errors_l2 = numpy.dot(self.wh2o.T, output_errors)\n",
    "        # hidden layer 1 error is the output_errors, split by weights, recombined at hidden nodes\n",
    "        hidden_errors_l1 = numpy.dot(self.wh1h2.T, hidden_errors_l2)\n",
    "        \n",
    "        # update the weights for the links between the hidden layer 2 and output layers\n",
    "        self.wh2o += self.lr * numpy.dot((output_errors * final_outputs * (1.0 - final_outputs)), numpy.transpose(hidden_outputs_l2))\n",
    "\n",
    "        # update the weights for the links between the input and hidden layer l1\n",
    "        self.wh1h2 += self.lr * numpy.dot((hidden_errors_l2 * hidden_outputs_l2 * (1.0 - hidden_outputs_l2)), numpy.transpose(hidden_outputs_l1))\n",
    "        \n",
    "        # update the weights for the links between the input and hidden layer l1\n",
    "        self.wih1 += self.lr * numpy.dot((hidden_errors_l1 * hidden_outputs_l1 * (1.0 - hidden_outputs_l1)), numpy.transpose(inputs))\n",
    "        \n",
    "        pass\n",
    "\n",
    "    \n",
    "    # query the neural network\n",
    "    def query(self, inputs_list):\n",
    "        inputs = numpy.array(inputs_list, ndmin=2).T\n",
    "        \n",
    "        # calculate signals into hidden layer 1\n",
    "        hidden_inputs_l1 = numpy.dot(self.wih1, inputs)\n",
    "        # calculate the signals emerging from hidden layer\n",
    "        hidden_outputs_l1 = self.activation_function(hidden_inputs_l1)\n",
    "\n",
    "        # calculate signals into hidden layer 2\n",
    "        hidden_inputs_l2 = numpy.dot(self.wh1h2, hidden_outputs_l1)\n",
    "        # calculate the signals emerging from hidden layer\n",
    "        hidden_outputs_l2 = self.activation_function(hidden_inputs_l2)\n",
    " \n",
    "        # calculate signals into final output layer\n",
    "        final_inputs = numpy.dot(self.wh2o, hidden_outputs_l2)\n",
    "        # calculate the signals emerging from final output layer\n",
    "        final_outputs = self.activation_function(final_inputs)\n",
    "        \n",
    "        return final_outputs"
   ]
  },
  {
   "cell_type": "code",
   "execution_count": 6,
   "metadata": {},
   "outputs": [],
   "source": [
    "# neural network class definition\n",
    "class neuralNetwork1HiddenLayer:\n",
    "    \n",
    "    \n",
    "    # initialise the neural network\n",
    "    def __init__(self, inputnodes, hiddennodes, outputnodes, learningrate):\n",
    "        # set number of nodes in each input, hidden, output layer\n",
    "        self.inodes = inputnodes\n",
    "        self.hnodes = hiddennodes\n",
    "        self.onodes = outputnodes\n",
    "        \n",
    "        # link weight matrices, wih and who\n",
    "        # weights inside the arrays are w_i_j, where link is from node i to node j in the next layer\n",
    "        # w11 w21\n",
    "        # w12 w22 etc \n",
    "        self.wih = numpy.random.normal(0.0, pow(self.inodes, -0.5), (self.hnodes, self.inodes))\n",
    "        self.who = numpy.random.normal(0.0, pow(self.hnodes, -0.5), (self.onodes, self.hnodes))\n",
    "\n",
    "        # learning rate\n",
    "        self.lr = learningrate\n",
    "        \n",
    "        # activation function is the sigmoid function\n",
    "        self.activation_function = lambda x: scipy.special.expit(x)\n",
    "        \n",
    "        pass\n",
    "\n",
    "    \n",
    "    # train the neural network\n",
    "    def train(self, inputs_list, targets_list):\n",
    "        # convert inputs list to 2d array\n",
    "        inputs = numpy.array(inputs_list, ndmin=2).T\n",
    "        targets = numpy.array(targets_list, ndmin=2).T\n",
    "        \n",
    "        # calculate signals into hidden layer\n",
    "        hidden_inputs = numpy.dot(self.wih, inputs)\n",
    "        # calculate the signals emerging from hidden layer\n",
    "        hidden_outputs = self.activation_function(hidden_inputs)\n",
    "        \n",
    "        # calculate signals into final output layer\n",
    "        final_inputs = numpy.dot(self.who, hidden_outputs)\n",
    "        # calculate the signals emerging from final output layer\n",
    "        final_outputs = self.activation_function(final_inputs)\n",
    "        \n",
    "        # output layer error is the (target - actual)\n",
    "        output_errors = targets - final_outputs\n",
    "        # hidden layer error is the output_errors, split by weights, recombined at hidden nodes\n",
    "        hidden_errors = numpy.dot(self.who.T, output_errors) \n",
    "        \n",
    "        # update the weights for the links between the hidden and output layers\n",
    "        self.who += self.lr * numpy.dot((output_errors * final_outputs * (1.0 - final_outputs)), numpy.transpose(hidden_outputs))\n",
    "        \n",
    "        # update the weights for the links between the input and hidden layers\n",
    "        self.wih += self.lr * numpy.dot((hidden_errors * hidden_outputs * (1.0 - hidden_outputs)), numpy.transpose(inputs))\n",
    "        \n",
    "        pass\n",
    "\n",
    "    \n",
    "    # query the neural network\n",
    "    def query(self, inputs_list):\n",
    "        # convert inputs list to 2d array\n",
    "        inputs = numpy.array(inputs_list, ndmin=2).T\n",
    "        \n",
    "        # calculate signals into hidden layer\n",
    "        hidden_inputs = numpy.dot(self.wih, inputs)\n",
    "        # calculate the signals emerging from hidden layer\n",
    "        hidden_outputs = self.activation_function(hidden_inputs)\n",
    "        \n",
    "        # calculate signals into final output layer\n",
    "        final_inputs = numpy.dot(self.who, hidden_outputs)\n",
    "        # calculate the signals emerging from final output layer\n",
    "        final_outputs = self.activation_function(final_inputs)\n",
    "        \n",
    "        return final_outputs"
   ]
  },
  {
   "cell_type": "code",
   "execution_count": 7,
   "metadata": {},
   "outputs": [],
   "source": [
    "# number of input, hidden and output nodes\n",
    "input_nodes = 9\n",
    "hidden_nodes_l1 = 200\n",
    "hidden_nodes_l2 = 9\n",
    "output_nodes = 9\n",
    "\n",
    "# learning rate\n",
    "learning_rate = 0.1\n",
    "\n",
    "# create instance of neural network\n",
    "#n = neuralNetwork2HiddenLayers(input_nodes,hidden_nodes_l1,hidden_nodes_l2,output_nodes,learning_rate)\n",
    "n = neuralNetwork1HiddenLayer(input_nodes,hidden_nodes_l1,output_nodes,learning_rate)"
   ]
  },
  {
   "cell_type": "code",
   "execution_count": 8,
   "metadata": {},
   "outputs": [
    {
     "name": "stdout",
     "output_type": "stream",
     "text": [
      "C:\\Daten\\Privat\\jupyter\n"
     ]
    }
   ],
   "source": [
    "cwd = os.getcwd()\n",
    "print(cwd)"
   ]
  },
  {
   "cell_type": "code",
   "execution_count": 9,
   "metadata": {},
   "outputs": [],
   "source": [
    "# load the mnist training data CSV file into a list\n",
    "training_data_file = open(\"nnTrainingData.txt\", 'r')\n",
    "training_data_list = training_data_file.readlines()\n",
    "training_data_file.close()"
   ]
  },
  {
   "cell_type": "code",
   "execution_count": null,
   "metadata": {},
   "outputs": [
    {
     "name": "stdout",
     "output_type": "stream",
     "text": [
      "train the neural network\n"
     ]
    }
   ],
   "source": [
    "print(\"train the neural network\")\n",
    "# train the neural network\n",
    "\n",
    "# epochs is the number of times the training data set is used for training\n",
    "epochs = 100\n",
    "for e in range(epochs):\n",
    "    for e in range(epochs):\n",
    "        i=0\n",
    "        for training_data in training_data_list:            \n",
    "            if i % 2 == 0:\n",
    "                inputVector = numpy.asfarray(training_data.replace(\"\\n\", \"\").split(',')) \n",
    "            else:\n",
    "                outputVector = numpy.asfarray(training_data.replace(\"\\n\", \"\").split(','))\n",
    "                n.train(inputVector, outputVector)\n",
    "            i=i+1\n",
    "        pass        \n",
    "pass    "
   ]
  },
  {
   "cell_type": "code",
   "execution_count": 10,
   "metadata": {},
   "outputs": [
    {
     "name": "stdout",
     "output_type": "stream",
     "text": [
      "test the neural network\n",
      "Equals : 2993\n",
      "Unequals : 1527\n"
     ]
    }
   ],
   "source": [
    "print(\"test the neural network\")\n",
    "# test the neural network\n",
    "\n",
    "equals = 0\n",
    "unequals = 0\n",
    "i=0\n",
    "for training_data in training_data_list:\n",
    "    if i % 2 == 0:\n",
    "        inputVector = numpy.asfarray(training_data.replace(\"\\n\", \"\").split(',')) \n",
    "    else:\n",
    "        outputVector = numpy.asfarray(training_data.replace(\"\\n\", \"\").split(','))\n",
    "        resultVector = n.query(inputVector)\n",
    "\n",
    "        maxIdxOutputVector = numpy.argmax(outputVector)\n",
    "        maxIdxResultVector = numpy.argmax(resultVector)\n",
    "\n",
    "        if (maxIdxOutputVector == maxIdxResultVector):\n",
    "            equals = equals + 1\n",
    "        else:\n",
    "            unequals = unequals + 1\n",
    "    i=i+1\n",
    "pass\n",
    "\n",
    "print(\"Equals : \" + str(equals))\n",
    "print(\"Unequals : \" + str(unequals))"
   ]
  },
  {
   "cell_type": "code",
   "execution_count": null,
   "metadata": {},
   "outputs": [],
   "source": []
  }
 ],
 "metadata": {
  "kernelspec": {
   "display_name": "Python 3 (ipykernel)",
   "language": "python",
   "name": "python3"
  },
  "language_info": {
   "codemirror_mode": {
    "name": "ipython",
    "version": 3
   },
   "file_extension": ".py",
   "mimetype": "text/x-python",
   "name": "python",
   "nbconvert_exporter": "python",
   "pygments_lexer": "ipython3",
   "version": "3.12.0"
  }
 },
 "nbformat": 4,
 "nbformat_minor": 4
}
